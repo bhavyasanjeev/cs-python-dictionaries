{
 "cells": [
  {
   "cell_type": "markdown",
   "metadata": {},
   "source": [
    "# Python Dictionaries"
   ]
  },
  {
   "cell_type": "markdown",
   "metadata": {},
   "source": [
    "## Dictionaries in Python\n",
    "\n",
    "A very useful data type built into Python is the **dictionary**  \n",
    "\n",
    "This could be used to find a person's birthday from a dictionary, by typing their name in.<br>\n",
    "You could even use it as a literal dictionary.\n",
    "\n",
    "Unlike sequences, which are indexed by a range of numbers, dictionaries are indexed by **keys**, which can be any type; strings and numbers can always be keys.  But, you can’t use lists as keys, since lists can be modified.\n",
    "\n",
    "It is best to think of a dictionary as an **unordered** set of **key: value** pairs, with the requirement that the keys are unique (no two can be the same within one dictionary). \n",
    "\n",
    "You can also assign properties to dictionaries, like **indexes** in a list, in a dictionary, you use a **key** to extract data.<br>\n",
    "It's a **data type** to **store information**.\n",
    "```python\n",
    "#initialise a list\n",
    "list = []\n",
    "# initialise a dictionary\n",
    "mydict = {}\n",
    "mydict = {\"Ana\": \"29/2\", \"Barb\": \"12/4\"}\n",
    "\n",
    "#call\n",
    "mydict [\"Ana\"]\n",
    "```\n",
    "As above shows, you use a **key** to call information, not an **index**.\n",
    "\n",
    "\n",
    "## Syntax of dictionaries\n",
    "\n",
    "A pair of curly braces creates an empty dictionary: {} \n",
    "\n",
    "``` myDict = {} # creates an empty dictionary data structure ```\n",
    "\n",
    "Placing a comma-separated list of **key:value** pairs within the braces adds initial key:value pairs to the dictionary\n",
    "\n",
    "``` birthdayDictionary = {\"Ana\": \"29/2\", \"Barb\" : \"12/4\", \"Charles\" : \"13/6\"} ```\n",
    "\n",
    "The **key** can then be used an you would an index in a list (ie within the square brackets), so\n",
    "\n",
    "``` birthdayDictionary[\"Ana\"] ```\n",
    "\n",
    "will return \"29/2\", while\n",
    "\n",
    "``` birthdayDictionary[\"Charles\"] ```\n",
    "\n",
    "will return \"13/6\""
   ]
  },
  {
   "cell_type": "code",
   "execution_count": 1,
   "metadata": {},
   "outputs": [
    {
     "name": "stdout",
     "output_type": "stream",
     "text": [
      "29/2\n",
      "12/4\n",
      "13/6\n",
      "Ana's birthday is 29/2, Charles's is 13/6, and Barb's is 12/4.\n"
     ]
    }
   ],
   "source": [
    "birthdayDictionary = {\"Ana\": \"29/2\", \"Barb\" : \"12/4\", \"Charles\" : \"13/6\"}\n",
    "# get Ana's birthday\n",
    "print(birthdayDictionary[\"Ana\"])\n",
    "#get Barb's birthday\n",
    "print(birthdayDictionary[\"Barb\"])\n",
    "#get Charles' birthday\n",
    "print(birthdayDictionary[\"Charles\"])\n",
    "\n",
    "\n",
    "#print all three\n",
    "print(\"Ana's birthday is {}, Charles's is {}, and Barb's is {}.\".format((birthdayDictionary[\"Ana\"]),(birthdayDictionary[\"Charles\"]), (birthdayDictionary[\"Barb\"])))"
   ]
  },
  {
   "cell_type": "markdown",
   "metadata": {},
   "source": [
    "## Adding key:value pairs to a dictionary\n",
    "\n",
    "This is as simple as:\n",
    "\n",
    "``` birthdayDictionary[\"Tina\"] = \"2/01\" ```"
   ]
  },
  {
   "cell_type": "code",
   "execution_count": 2,
   "metadata": {},
   "outputs": [
    {
     "name": "stdout",
     "output_type": "stream",
     "text": [
      "{'Charles': '13/6', 'Pingu': '4/01', 'Ana': '29/2', 'Goo': '9/02', 'Tina': '2/01', 'Barb': '12/4', 'Sentret': '13/08'}\n"
     ]
    },
    {
     "data": {
      "text/plain": [
       "{'Ana': '29/2',\n",
       " 'Barb': '12/4',\n",
       " 'Charles': '13/6',\n",
       " 'Goo': '9/02',\n",
       " 'Pingu': '4/01',\n",
       " 'Sentret': '17/11',\n",
       " 'Tina': '2/01'}"
      ]
     },
     "execution_count": 2,
     "metadata": {},
     "output_type": "execute_result"
    }
   ],
   "source": [
    "#add a new key:value pair\n",
    "birthdayDictionary[\"Tina\"] = \"2/01\"\n",
    "\n",
    "# add 3 more birthdays to this\n",
    "birthdayDictionary[\"Pingu\"] = \"4/01\"\n",
    "birthdayDictionary[\"Goo\"] = \"9/02\"\n",
    "birthdayDictionary[\"Sentret\"] = \"13/08\"\n",
    " \n",
    "print(birthdayDictionary)\n",
    "#what happens when you attempt to add a new key:value pair where the key is NOT unique??\n",
    "birthdayDictionary[\"Sentret\"] = \"17/11\"\n",
    "#it overwrites the old key's value\n",
    "birthdayDictionary"
   ]
  },
  {
   "cell_type": "markdown",
   "metadata": {},
   "source": [
    "## Using a loop to step through a dictionary\n",
    "\n",
    "A dictionary is a sequence so can be iterated through, as with a list."
   ]
  },
  {
   "cell_type": "code",
   "execution_count": 3,
   "metadata": {},
   "outputs": [
    {
     "name": "stdout",
     "output_type": "stream",
     "text": [
      "key=  Charles  value=  13/6\n",
      "key=  Pingu  value=  4/01\n",
      "key=  Ana  value=  29/2\n",
      "key=  Goo  value=  9/02\n",
      "key=  Tina  value=  2/01\n",
      "key=  Barb  value=  12/4\n",
      "key=  Sentret  value=  17/11\n",
      "\n",
      "===============================\n",
      "\n",
      "Charles : 13/6\n",
      "Pingu : 4/01\n",
      "Ana : 29/2\n",
      "Goo : 9/02\n",
      "Tina : 2/01\n",
      "Barb : 12/4\n",
      "Sentret : 17/11\n"
     ]
    }
   ],
   "source": [
    "#first simple way to iterate through a dictionary\n",
    "for key in birthdayDictionary:   # key is like i\n",
    "    print(\"key= \", key, \" value= \", birthdayDictionary[key])\n",
    "\n",
    "#seperator\n",
    "print(\"\\n===============================\\n\")\n",
    "\n",
    "#another way to print all the key:value pairs\n",
    "for key, value in birthdayDictionary.items():\n",
    "    print(key, \":\", value)\n"
   ]
  },
  {
   "cell_type": "markdown",
   "metadata": {},
   "source": [
    "## Testing whether a key is in a dictionary\n",
    "\n",
    "really each with the ``` in ``` operator"
   ]
  },
  {
   "cell_type": "code",
   "execution_count": 4,
   "metadata": {},
   "outputs": [
    {
     "name": "stdout",
     "output_type": "stream",
     "text": [
      "Yes its there!\n"
     ]
    }
   ],
   "source": [
    "key = \"Tina\"   # Must be spelled right with the right case (Don't forget the capital letters if it has any!)\n",
    "\n",
    "if key in birthdayDictionary:\n",
    "    print(\"Yes its there!\")\n",
    "else:\n",
    "    print(\"The key\", key, \"does not exist in the birthday dictionary\")"
   ]
  },
  {
   "cell_type": "code",
   "execution_count": 5,
   "metadata": {},
   "outputs": [
    {
     "name": "stdout",
     "output_type": "stream",
     "text": [
      "The key 'Nosferatu' does not exist in the birthday dictionary\n"
     ]
    }
   ],
   "source": [
    "key = \"Nosferatu\"\n",
    "\n",
    "if key in birthdayDictionary:\n",
    "    print(\"Yes its there!\")\n",
    "else:\n",
    "    print(\"The key '{}' does not exist in the birthday dictionary\".format(key))"
   ]
  },
  {
   "cell_type": "code",
   "execution_count": 6,
   "metadata": {},
   "outputs": [
    {
     "name": "stdout",
     "output_type": "stream",
     "text": [
      "The key 'pingu' does not exist in the birthday dictionary\n"
     ]
    }
   ],
   "source": [
    "key = \"pingu\"   # This is spelled wrong with a lowercase letter\n",
    "\n",
    "if key in birthdayDictionary:\n",
    "    print(\"Yes its there!\")\n",
    "else:\n",
    "    print(\"The key '{}' does not exist in the birthday dictionary\".format(key))"
   ]
  },
  {
   "cell_type": "markdown",
   "metadata": {},
   "source": [
    "### User Input"
   ]
  },
  {
   "cell_type": "code",
   "execution_count": 2,
   "metadata": {},
   "outputs": [
    {
     "name": "stdout",
     "output_type": "stream",
     "text": [
      "enter a new key - your friend's name. This must be unique!:  pengu\n",
      "enter a new value - that friend's favourite colour:  gren\n",
      "do you want to continue? (y/n):  y\n",
      "enter a new key - your friend's name. This must be unique!:  agidyne\n",
      "enter a new value - that friend's favourite colour:  red\n",
      "do you want to continue? (y/n):  y\n",
      "enter a new key - your friend's name. This must be unique!:  garu\n",
      "enter a new value - that friend's favourite colour:  gren\n",
      "do you want to continue? (y/n):  y\n",
      "enter a new key - your friend's name. This must be unique!:  popplio\n",
      "enter a new value - that friend's favourite colour:  blue\n",
      "do you want to continue? (y/n):  y\n",
      "enter a new key - your friend's name. This must be unique!:  cucco\n",
      "enter a new value - that friend's favourite colour:  yellow\n",
      "do you want to continue? (y/n):  n\n"
     ]
    },
    {
     "data": {
      "text/plain": [
       "{'agidyne': 'red',\n",
       " 'cucco': 'yellow',\n",
       " 'garu': 'gren',\n",
       " 'pengu': 'gren',\n",
       " 'popplio': 'blue'}"
      ]
     },
     "execution_count": 2,
     "metadata": {},
     "output_type": "execute_result"
    }
   ],
   "source": [
    "## Filling a dictionary with user input\n",
    "def fillDict():\n",
    "\n",
    "    newDict = {}\n",
    "    cont = 'y' # assume the user wants to run the loop at least once\n",
    "    while cont == 'y':\n",
    "        key=input(\"enter a new key - your friend's name. This must be unique!:  \")\n",
    "        value=input(\"enter a new value - that friend's favourite colour:  \")\n",
    "        newDict[key]=value\n",
    "        cont = input(\"do you want to continue? (y/n):  \").lower()\n",
    "        \n",
    "    return newDict\n",
    "\n",
    "myDict=fillDict()\n",
    "myDict"
   ]
  },
  {
   "cell_type": "markdown",
   "metadata": {},
   "source": [
    "## Task - query the dictionary\n",
    "\n",
    "Allow the user to enter the name of a friend and tell them that friend's favourite colour\n",
    "\n",
    "### Extension - make your code robust\n",
    "\n",
    "An error could occur if a friend, who's name is not in the dictionary, is entered. Use a try/ec"
   ]
  },
  {
   "cell_type": "code",
   "execution_count": null,
   "metadata": {},
   "outputs": [],
   "source": [
    "def queryDict():\n",
    "\n",
    "    newDict = {}\n",
    "    cont = 'y' # assume the user wants to run the loop at least once\n",
    "    while cont == 'y':\n",
    "        key=input(\"enter a new key - your friend's name. This must be unique!:  \")\n",
    "        value=input(\"enter a new value - that friend's favourite colour:  \")\n",
    "        newDict[key]=value\n",
    "        cont = input(\"do you want to continue? (y/n):  \").lower()\n",
    "        \n",
    "    return newDict\n",
    "\n",
    "frenDict=fillDict()\n",
    "frenDict"
   ]
  },
  {
   "cell_type": "code",
   "execution_count": 4,
   "metadata": {},
   "outputs": [
    {
     "name": "stdout",
     "output_type": "stream",
     "text": [
      "What's your friend's name?pengu\n",
      "pengu's favourite colour is 'gren'.\n",
      "Do you want to find out another friend's? (y/n):  y\n",
      "What's your friend's name?agidyne\n",
      "agidyne's favourite colour is 'red'.\n",
      "Do you want to find out another friend's? (y/n):  n\n"
     ]
    }
   ],
   "source": [
    "cont = 'y' # assume the user wants to run the loop at least once\n",
    "while cont == 'y':\n",
    "    key = input(\"What's your friend's name?\")\n",
    "    if key in myDict:\n",
    "        value = myDict[key]\n",
    "        print(\"{}'s favourite colour is '{}'.\".format(key, value))\n",
    "        # this  '  .lower()  '  makes the input always lowercase, but in this case it shouldn't matter as it will stop is anything other than 'y' is entered\n",
    "        cont = input(\"Do you want to find out another friend's? (y/n):  \").lower()  \n",
    "    else:\n",
    "        print(\"That is not a friend of yours.\")"
   ]
  },
  {
   "cell_type": "markdown",
   "metadata": {},
   "source": [
    "## Creating a dictionary with data from a CSV file"
   ]
  },
  {
   "cell_type": "code",
   "execution_count": 8,
   "metadata": {},
   "outputs": [
    {
     "name": "stdout",
     "output_type": "stream",
     "text": [
      "['Python', 'Guido von Rossum']\n",
      "['C', 'Brian Kernighan and Dennis Ritchie']\n",
      "['Pascal', 'Nicholas Wirth']\n",
      "['Ada', 'Jean Ichbiah']\n",
      "['COBOL', 'Jean E. Sammet']\n",
      "['Javascript', 'Brendan Eich']\n",
      "['Java', 'James Gosling']\n",
      "['Processing', 'Casey Reas and Benjamin Fry']\n",
      "{'C': 'Brian Kernighan and Dennis Ritchie', 'COBOL': 'Jean E. Sammet', 'Python': 'Guido von Rossum', 'Javascript': 'Brendan Eich', 'Pascal': 'Nicholas Wirth', 'Java': 'James Gosling', 'Processing': 'Casey Reas and Benjamin Fry', 'Ada': 'Jean Ichbiah'}\n"
     ]
    }
   ],
   "source": [
    "import csv\n",
    "\n",
    "def loadDictFromCSV():\n",
    "    #Sets up the file for reading\n",
    "    with open(\"languages.csv\",\"r\") as f:\n",
    "        reader=csv.reader(f)\n",
    "        #Where we're going to be storing the recipes dictionary\n",
    "        dictionary={}\n",
    "        for row in reader:\n",
    "            print(row) #debug - to see what this is, what data structure and how to access it\n",
    "            index = row[0]\n",
    "            value=row[1]\n",
    "            #Then stores the recipe in the dictionary under the recipe name\n",
    "            dictionary[index]=value\n",
    "        return dictionary\n",
    "    \n",
    "myLangDict = loadDictFromCSV()\n",
    "print(myLangDict)"
   ]
  },
  {
   "cell_type": "markdown",
   "metadata": {},
   "source": [
    "## Querying a dictionary"
   ]
  },
  {
   "cell_type": "code",
   "execution_count": 9,
   "metadata": {},
   "outputs": [
    {
     "name": "stdout",
     "output_type": "stream",
     "text": [
      "The name of the programming language you want to know the author of:  python\n",
      "That is not a known programming language, please check you've typed it in correctly.\n",
      "The name of the programming language you want to know the author of:  Python\n",
      "The author of 'Python' is 'Guido von Rossum'.\n",
      "Do you want to find out another? (y/n):  y\n",
      "The name of the programming language you want to know the author of:  Java\n",
      "The author of 'Java' is 'James Gosling'.\n",
      "Do you want to find out another? (y/n):  n\n"
     ]
    }
   ],
   "source": [
    "# allow the user to query the dictionary\n",
    "\n",
    "cont = 'y' # assume the user wants to run the loop at least once\n",
    "while cont == 'y':\n",
    "    key=input(\"The name of the programming language you want to know the author of:  \")\n",
    "    if key in myLangDict:\n",
    "        author = myLangDict[key]\n",
    "        print(\"The author of '{}' is '{}'.\".format(key, author))\n",
    "        # this  '  .lower()  '  makes the input always lowercase, but in this case it shouldn't matter as it will stop is anything other than 'y' is entered\n",
    "        cont = input(\"Do you want to find out another? (y/n):  \").lower()  \n",
    "    else:\n",
    "        print(\"That is not a known programming language, please check you've typed it in correctly.\")\n",
    "\n",
    "\n",
    "# improve this code so that it gives and error message when the user enters an language incorrectly or one that does not \n",
    "# exisit in the dictionary - use try/except to catch the KeyError"
   ]
  },
  {
   "cell_type": "markdown",
   "metadata": {},
   "source": [
    "## References\n",
    "\n",
    "https://www.tutorialspoint.com/python/python_dictionary.htm\n",
    "\n",
    "https://docs.python.org/3/tutorial/datastructures.html"
   ]
  },
  {
   "cell_type": "markdown",
   "metadata": {},
   "source": [
    "## Task: Recipes\n",
    "\n",
    "Use the CSV file recipes.csv that you have been given\n",
    "The format is as follows:\n",
    "``` \n",
    "Name of recipe, Num of servings, ingredient1, amount1, unit1, ingredient2, amount2, unit2, .... .... .....\n",
    "Buttery Scones, 8, flour, 225, grams, sugar, 25, grams, milk, 150, ml, egg, 1, , butter, 55, grams, salt, 1, pinch \n",
    "```\n",
    "1) Write code that will read the recipe information into a dictionary. The key should be the name of the recipe and the value will be a list of ingredients like this:\n",
    "\n",
    "```\n",
    "{'Bolognaise sauce': [' 4', ' minced beef', ' 255', ' grams', ' olive oil', ' 2', ' tbsp', ' onion', ' 1', ' ', ' green pepper', '1', '', ' garlic', ' 1', ' clove', ' tinned tomatoes', ' 400', ' grams', ' red wine', ' 150', ' ml'], 'Buttery Scones': [' 8', ' flour', ' 225', ' grams', ' sugar', ' 25', ' grams', ' milk', ' 150', ' ml', ' egg', ' 1', ' ', ' butter', ' 55', ' grams', ' salt', ' 1', ' pinch'], 'Hollandaise Sauce': [' 2', ' vinegar', ' 3', ' tbsp', ' peppercorns', ' 6', ' ', ' bay leaf', ' 1', ' ', ' eggs', ' 2', ' ', ' butter', ' 125', ' grams'], 'Goats cheese tart': [' 12', ' puff pastry', ' 1 ', ' packet', \" goat's cheese\", ' 120', ' grams', ' figs', ' 4', ' ', ' honey', ' 25', ' ml']}\n",
    "\n",
    "```\n",
    "\n",
    "2) Now print out the recipe that the user wants to see. First just print the list, then try to print it in a more pleasing format\n",
    "\n",
    "3) Now allow the user to enter a new recipe. \n",
    "\n",
    "- First the name of the recipe, \n",
    "- then the number of servings\n",
    "- then the ingredients in 3 steps: name, amount, unit (which may be left empty)\n",
    "\n",
    "4) Now allow the user to enter the number of servings they want and write code to recalculate the amount of ingredients needed for that number of servings. \n"
   ]
  },
  {
   "cell_type": "code",
   "execution_count": 10,
   "metadata": {},
   "outputs": [
    {
     "name": "stdout",
     "output_type": "stream",
     "text": [
      "{'Buttery Scones': [' 8', ' flour', ' 225', ' grams', ' sugar', ' 25', ' grams', ' milk', ' 150', ' ml', ' egg', ' 1', ' ', ' butter', ' 55', ' grams', ' salt', ' 1', ' pinch'], 'Hollandaise Sauce': [' 2', ' vinegar', ' 3', ' tbsp', ' peppercorns', ' 6', ' ', ' bay leaf', ' 1', ' ', ' eggs', ' 2', ' ', ' butter', ' 125', ' grams'], 'Goats cheese tart': [' 12', ' puff pastry', ' 1 ', ' packet', \" goat's cheese\", ' 120', ' grams', ' figs', ' 4', ' ', ' honey', ' 25', ' ml'], 'Bolognaise sauce': [' 4', ' minced beef', ' 255', ' grams', ' olive oil', ' 2', ' tbsp', ' onion', ' 1', ' ', ' green pepper', '1', '', ' garlic', ' 1', ' clove', ' tinned tomatoes', ' 400', ' grams', ' red wine', ' 150', ' ml']}\n"
     ]
    }
   ],
   "source": [
    "def loadRecipes():\n",
    "    #Sets up the file for reading into a dictionary\n",
    "    with open(\"recipes.csv\",\"r\") as f:\n",
    "        reader=csv.reader(f)\n",
    "        # Where we're going to be storing the recipes dictionary\n",
    "        recipes={}\n",
    "        for row in reader:\n",
    "            #Then stores the recipe in the dictionary under the recipe name\n",
    "            recipes[row[0]]=row[1:]\n",
    "        return recipes\n",
    "recipes=loadRecipes()\n",
    "print(recipes)"
   ]
  },
  {
   "cell_type": "code",
   "execution_count": 11,
   "metadata": {},
   "outputs": [
    {
     "name": "stdout",
     "output_type": "stream",
     "text": [
      "Recipe name: Bolognaise sauce\n",
      "Servings: 10\n",
      " minced beef: 637.5  grams\n",
      " minced beef: 637.5  grams\n",
      " olive oil: 5.0  tbsp\n",
      " olive oil: 5.0  tbsp\n",
      " onion: 2.5  \n",
      " onion: 2.5  \n",
      " green pepper: 2.5 \n",
      " green pepper: 2.5 \n",
      " garlic: 2.5  clove\n",
      " garlic: 2.5  clove\n",
      " tinned tomatoes: 1000.0  grams\n",
      " tinned tomatoes: 1000.0  grams\n",
      " red wine: 375.0  ml\n",
      " red wine: 375.0  ml\n"
     ]
    }
   ],
   "source": [
    "recipeName=input(\"Recipe name: \")\n",
    "#Keep requesting until the user gives a recipe name that exists\n",
    "while recipeName not in recipes:\n",
    "    print(\"Error: Recipe does not exist\")\n",
    "    recipeName = input(\"Recipe name: \")\n",
    "    \n",
    "#Get the number of servings ## int() must be used as input() outputs a string.\n",
    "newNumberOfPeople=int(input(\"Servings: \"))\n",
    "\n",
    "#Have to take in parallel chunks of 3\n",
    "for i in range(1, len(recipes[recipeName]), 3):\n",
    "    item = recipes[recipeName][i]\n",
    "    amount = recipes[recipeName][i+1]\n",
    "    unit = recipes[recipeName][i+2]\n",
    "    # calculates amount for each serving for each ingredient\n",
    "    print(\"{}: {} {}\".format(item , (str(float(amount)*float(newNumberOfPeople)/float(recipes[recipeName][0]))) , unit))\n",
    "    print(item+\": \"+str(float(amount)*float(newNumberOfPeople)/float(recipes[recipeName][0]))+\" \"+unit)"
   ]
  }
 ],
 "metadata": {
  "kernelspec": {
   "display_name": "Python 3",
   "language": "python",
   "name": "python3"
  },
  "language_info": {
   "codemirror_mode": {
    "name": "ipython",
    "version": 3
   },
   "file_extension": ".py",
   "mimetype": "text/x-python",
   "name": "python",
   "nbconvert_exporter": "python",
   "pygments_lexer": "ipython3",
   "version": "3.5.2"
  }
 },
 "nbformat": 4,
 "nbformat_minor": 2
}
